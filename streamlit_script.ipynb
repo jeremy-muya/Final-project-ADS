{
 "cells": [
  {
   "cell_type": "code",
   "execution_count": 2,
   "id": "f5189b1f",
   "metadata": {},
   "outputs": [
    {
     "name": "stdout",
     "output_type": "stream",
     "text": [
      "Current Working Directory: C:\\Users\\admin\\Documents\\Muya\n",
      "Files in Current Directory: ['.git', '.ipynb_checkpoints', 'best_model_logistic_regression.pkl', 'hotel_bookings.csv', 'hotel_training_code.ipynb', 'requirements.txt', 'streamlit_app.py', 'streamlit_script.ipynb']\n"
     ]
    },
    {
     "data": {
      "text/plain": [
       "DeltaGenerator()"
      ]
     },
     "execution_count": 2,
     "metadata": {},
     "output_type": "execute_result"
    }
   ],
   "source": [
    "import streamlit as st\n",
    "import joblib\n",
    "import pandas as pd\n",
    "import seaborn as sns\n",
    "import matplotlib.pyplot as plt\n",
    "import os\n",
    "\n",
    "# Print current working directory and list of files\n",
    "print(\"Current Working Directory:\", os.getcwd())\n",
    "print(\"Files in Current Directory:\", os.listdir())\n",
    "\n",
    "# Load the trained model\n",
    "logistic_regression_model = joblib.load('best_model_logistic_regression.pkl')\n",
    "\n",
    "# Load the dataset \n",
    "csv_path = \"C:/Users/admin/Documents/Muya/hotel_bookings.csv\"\n",
    "df = pd.read_csv(csv_path)\n",
    "\n",
    "# Page title\n",
    "st.title(\"Hotel Booking Analysis\")\n",
    "\n",
    "# Display the dataset\n",
    "st.subheader(\"Dataset\")\n",
    "st.dataframe(df)\n",
    "\n",
    "# Visualizations\n",
    "st.subheader(\"Data Visualizations\")\n",
    "\n",
    "# Histogram for lead time\n",
    "fig_hist_lead_time = plt.figure(figsize=(10, 6))\n",
    "sns.histplot(df['lead_time'], bins=30, kde=True)\n",
    "st.pyplot(fig_hist_lead_time)\n",
    "\n",
    "# Count plot for canceled and not canceled bookings\n",
    "fig_count_plot = plt.figure(figsize=(8, 5))\n",
    "sns.countplot(x='is_canceled', data=df)\n",
    "st.pyplot(fig_count_plot)\n",
    "\n",
    "# Heatmap for correlation matrix (excluding non-numeric columns)\n",
    "numeric_columns = df.select_dtypes(include=['number']).columns\n",
    "fig_heatmap_corr = plt.figure(figsize=(12, 8))\n",
    "sns.heatmap(df[numeric_columns].corr(), annot=True, cmap=\"coolwarm\")\n",
    "st.pyplot(fig_heatmap_corr)"
   ]
  },
  {
   "cell_type": "code",
   "execution_count": null,
   "id": "7c3b767b",
   "metadata": {},
   "outputs": [],
   "source": []
  }
 ],
 "metadata": {
  "kernelspec": {
   "display_name": "Python 3 (ipykernel)",
   "language": "python",
   "name": "python3"
  },
  "language_info": {
   "codemirror_mode": {
    "name": "ipython",
    "version": 3
   },
   "file_extension": ".py",
   "mimetype": "text/x-python",
   "name": "python",
   "nbconvert_exporter": "python",
   "pygments_lexer": "ipython3",
   "version": "3.11.5"
  }
 },
 "nbformat": 4,
 "nbformat_minor": 5
}
